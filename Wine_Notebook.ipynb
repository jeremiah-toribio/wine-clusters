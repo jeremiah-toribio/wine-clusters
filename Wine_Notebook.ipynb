{
 "cells": [
  {
   "cell_type": "markdown",
   "metadata": {},
   "source": [
    "# Wine Quality:\n",
    "<hr style=\"border:2px solid black\">"
   ]
  },
  {
   "cell_type": "markdown",
   "metadata": {},
   "source": [
    "## Goal: \n",
    "- Discover independence of features within data\n",
    "- Utilizing said features to develop machine learning models that will determine the quality of wine \n",
    "- Determine the drivers of quality\n",
    "- The insights discovered will be used to estimate quality and provide a more robust understanding of the attributes of a the wine and it's associated quality\n",
    "<hr style=\"border:2px solid black\">"
   ]
  },
  {
   "cell_type": "markdown",
   "metadata": {},
   "source": [
    "# Imports"
   ]
  },
  {
   "cell_type": "code",
   "execution_count": 2,
   "metadata": {},
   "outputs": [],
   "source": [
    "# Standard ds imports:\n",
    "import pandas as pd\n",
    "import numpy as np\n",
    "\n",
    "# Viz\n",
    "import matplotlib.pyplot as plt\n",
    "import seaborn as sns\n",
    "\n",
    "# Statisitics\n",
    "from scipy import stats\n",
    "\n",
    "import os\n",
    "import acquire as a\n",
    "import wrangle as w"
   ]
  },
  {
   "cell_type": "markdown",
   "metadata": {},
   "source": [
    "<hr style=\"border:2px solid black\">\n",
    "\n",
    "# **Acquire**\n",
    "Plan --> **Acquire** --> Prepare --> Explore --> Model --> Deliver"
   ]
  },
  {
   "cell_type": "code",
   "execution_count": 3,
   "metadata": {},
   "outputs": [],
   "source": [
    "df = a.acquire_wine()"
   ]
  },
  {
   "cell_type": "code",
   "execution_count": 4,
   "metadata": {},
   "outputs": [],
   "source": [
    "# Acquire\n",
    "if os.path.exists('winequality_red.csv'):\n",
    "    red_df = pd.read_csv('winequality_red.csv')\n",
    "\n",
    "if os.path.exists('winequality_white.csv'):\n",
    "    white_df = pd.read_csv('winequality_white.csv')"
   ]
  },
  {
   "cell_type": "code",
   "execution_count": 5,
   "metadata": {},
   "outputs": [],
   "source": [
    "red_df['is_red'] = 1\n",
    "white_df['is_red'] = 0"
   ]
  },
  {
   "cell_type": "code",
   "execution_count": 6,
   "metadata": {},
   "outputs": [],
   "source": [
    "df = pd.concat([white_df, red_df], axis=0, ignore_index=True)"
   ]
  },
  {
   "cell_type": "markdown",
   "metadata": {},
   "source": [
    "<hr style=\"border:2px solid black\">\n",
    "\n",
    "# **Prepare**"
   ]
  },
  {
   "cell_type": "code",
   "execution_count": 7,
   "metadata": {},
   "outputs": [
    {
     "name": "stdout",
     "output_type": "stream",
     "text": [
      "Dataframe: (6497, 13) 100%\n",
      "Train: (4157, 13) | ~60%\n",
      "Validate: (1040, 13) | ~20%\n",
      "Test: (1300, 13) | ~20%\n"
     ]
    }
   ],
   "source": [
    "# Splitting data\n",
    "train, validate, test = w.splitter(df)"
   ]
  },
  {
   "cell_type": "code",
   "execution_count": null,
   "metadata": {},
   "outputs": [],
   "source": [
    "# Scaling of x_train, val, test // scaler TBD\n",
    "\n",
    "# x_train_scaled, x_val_scaled, x_test_scaled = w.QuickScale()  "
   ]
  },
  {
   "cell_type": "markdown",
   "metadata": {},
   "source": [
    "<hr style=\"border:2px solid black\">\n",
    "\n",
    "# **Explore**\n",
    "Plan --> Acquire --> Prepare --> **Explore** --> Model --> Deliver"
   ]
  },
  {
   "cell_type": "markdown",
   "metadata": {},
   "source": [
    "<hr style=\"border:2px solid black\">\n",
    "\n",
    "# **Modeling**\n",
    "Plan --> Acquire --> Prepare --> Explore --> **Model** --> Deliver"
   ]
  },
  {
   "cell_type": "markdown",
   "metadata": {},
   "source": [
    "<hr style=\"border:2px solid black\">\n",
    "\n",
    "# **Conclusions**\n"
   ]
  },
  {
   "cell_type": "markdown",
   "metadata": {},
   "source": []
  }
 ],
 "metadata": {
  "kernelspec": {
   "display_name": "base",
   "language": "python",
   "name": "python3"
  },
  "language_info": {
   "codemirror_mode": {
    "name": "ipython",
    "version": 3
   },
   "file_extension": ".py",
   "mimetype": "text/x-python",
   "name": "python",
   "nbconvert_exporter": "python",
   "pygments_lexer": "ipython3",
   "version": "3.11.4"
  },
  "orig_nbformat": 4
 },
 "nbformat": 4,
 "nbformat_minor": 2
}
