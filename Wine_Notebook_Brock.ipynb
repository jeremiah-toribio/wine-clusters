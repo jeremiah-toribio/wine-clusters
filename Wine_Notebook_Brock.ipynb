{
 "cells": [
  {
   "cell_type": "markdown",
   "metadata": {},
   "source": [
    "# Wine Quality:\n",
    "<hr style=\"border:2px solid black\">"
   ]
  },
  {
   "cell_type": "markdown",
   "metadata": {},
   "source": [
    "## Goal: \n",
    "* \n",
    "* \n",
    "<hr style=\"border:2px solid black\">"
   ]
  },
  {
   "cell_type": "markdown",
   "metadata": {},
   "source": [
    "# Imports"
   ]
  },
  {
   "cell_type": "code",
   "execution_count": 1,
   "metadata": {},
   "outputs": [],
   "source": [
    "# Standard ds imports:\n",
    "import pandas as pd\n",
    "import numpy as np\n",
    "\n",
    "# Viz\n",
    "import matplotlib.pyplot as plt\n",
    "import seaborn as sns\n",
    "\n",
    "# Statisitics\n",
    "from scipy import stats\n",
    "\n",
    "import os\n",
    "import acquire as a\n",
    "import wrangle as wr\n",
    "\n",
    "from sklearn.model_selection import train_test_split\n",
    "from sklearn.cluster import KMeans\n",
    "from sklearn.tree import DecisionTreeClassifier, plot_tree\n",
    "from sklearn.ensemble import RandomForestClassifier\n",
    "from sklearn.neighbors import KNeighborsClassifier\n",
    "from sklearn.metrics import classification_report\n",
    "from sklearn.metrics import confusion_matrix"
   ]
  },
  {
   "cell_type": "markdown",
   "metadata": {},
   "source": [
    "<hr style=\"border:2px solid black\">\n",
    "\n",
    "# **Acquire**\n",
    "Plan --> **Acquire** --> Prepare --> Explore --> Model --> Deliver"
   ]
  },
  {
   "cell_type": "code",
   "execution_count": 2,
   "metadata": {},
   "outputs": [],
   "source": [
    "# Acquire\n",
    "df = a.acquire_wine()"
   ]
  },
  {
   "cell_type": "code",
   "execution_count": 3,
   "metadata": {},
   "outputs": [
    {
     "data": {
      "text/plain": [
       "is_red\n",
       "0    4898\n",
       "1    1599\n",
       "Name: count, dtype: int64"
      ]
     },
     "execution_count": 3,
     "metadata": {},
     "output_type": "execute_result"
    }
   ],
   "source": [
    "df.is_red.value_counts()"
   ]
  },
  {
   "cell_type": "markdown",
   "metadata": {},
   "source": [
    "<hr style=\"border:2px solid black\">\n",
    "\n",
    "# **Prepare**"
   ]
  },
  {
   "cell_type": "code",
   "execution_count": 4,
   "metadata": {},
   "outputs": [],
   "source": [
    "df = wr.remove_outliers(df, exclude_cols=['quality','is_red'])"
   ]
  },
  {
   "cell_type": "code",
   "execution_count": 5,
   "metadata": {},
   "outputs": [
    {
     "data": {
      "text/plain": [
       "is_red\n",
       "0    4336\n",
       "1     688\n",
       "Name: count, dtype: int64"
      ]
     },
     "execution_count": 5,
     "metadata": {},
     "output_type": "execute_result"
    }
   ],
   "source": [
    "df.is_red.value_counts()"
   ]
  },
  {
   "cell_type": "code",
   "execution_count": 764,
   "metadata": {},
   "outputs": [
    {
     "name": "stdout",
     "output_type": "stream",
     "text": [
      "Dataframe: (6497, 13) 100%\n",
      "Train: (4157, 13) | ~60%\n",
      "Validate: (1040, 13) | ~20%\n",
      "Test: (1300, 13) | ~20%\n"
     ]
    }
   ],
   "source": [
    "# split into train, validate, test\n",
    "train, validate, test = wr.splitter(df, stratify='quality')"
   ]
  },
  {
   "cell_type": "code",
   "execution_count": 765,
   "metadata": {},
   "outputs": [],
   "source": [
    "train_scaled_added, validate_scaled_added, test_scaled_added = wr.QuickScale_2(train, validate, test, linear=True, scaler='Standard', exclude_cols= ['is_red', 'quality'])"
   ]
  },
  {
   "cell_type": "code",
   "execution_count": 766,
   "metadata": {},
   "outputs": [],
   "source": [
    "train = train_scaled_added.drop(columns=['fixed_acidity_scaled', 'volatile_acidity_scaled', 'citric_acid_scaled',\n",
    "       'residual_sugar_scaled', 'chlorides_scaled',\n",
    "       'free_sulfur_dioxide_scaled', 'total_sulfur_dioxide_scaled',\n",
    "       'density_scaled', 'ph_scaled', 'sulphates_scaled', 'alcohol_scaled'])\n",
    "\n",
    "train_scaled = train_scaled_added.drop(columns=['fixed_acidity', 'volatile_acidity', 'citric_acid', 'residual_sugar',\n",
    "       'chlorides', 'free_sulfur_dioxide', 'total_sulfur_dioxide', 'density',\n",
    "       'ph', 'sulphates', 'alcohol'])\n",
    "\n",
    "validate = validate_scaled_added.drop(columns=['fixed_acidity_scaled', 'volatile_acidity_scaled', 'citric_acid_scaled',\n",
    "       'residual_sugar_scaled', 'chlorides_scaled',\n",
    "       'free_sulfur_dioxide_scaled', 'total_sulfur_dioxide_scaled',\n",
    "       'density_scaled', 'ph_scaled', 'sulphates_scaled', 'alcohol_scaled'])\n",
    "\n",
    "validate_scaled = validate_scaled_added.drop(columns=['fixed_acidity', 'volatile_acidity', 'citric_acid', 'residual_sugar',\n",
    "       'chlorides', 'free_sulfur_dioxide', 'total_sulfur_dioxide', 'density',\n",
    "       'ph', 'sulphates', 'alcohol'])\n",
    "\n",
    "test = test_scaled_added.drop(columns=['fixed_acidity_scaled', 'volatile_acidity_scaled', 'citric_acid_scaled',\n",
    "       'residual_sugar_scaled', 'chlorides_scaled',\n",
    "       'free_sulfur_dioxide_scaled', 'total_sulfur_dioxide_scaled',\n",
    "       'density_scaled', 'ph_scaled', 'sulphates_scaled', 'alcohol_scaled'])\n",
    "\n",
    "test_scaled = test_scaled_added.drop(columns=['fixed_acidity', 'volatile_acidity', 'citric_acid', 'residual_sugar',\n",
    "       'chlorides', 'free_sulfur_dioxide', 'total_sulfur_dioxide', 'density',\n",
    "       'ph', 'sulphates', 'alcohol'])"
   ]
  },
  {
   "cell_type": "code",
   "execution_count": 767,
   "metadata": {},
   "outputs": [
    {
     "data": {
      "text/plain": [
       "Index(['quality', 'is_red', 'fixed_acidity_scaled', 'volatile_acidity_scaled',\n",
       "       'citric_acid_scaled', 'residual_sugar_scaled', 'chlorides_scaled',\n",
       "       'free_sulfur_dioxide_scaled', 'total_sulfur_dioxide_scaled',\n",
       "       'density_scaled', 'ph_scaled', 'sulphates_scaled', 'alcohol_scaled'],\n",
       "      dtype='object')"
      ]
     },
     "execution_count": 767,
     "metadata": {},
     "output_type": "execute_result"
    }
   ],
   "source": [
    "train_scaled.columns"
   ]
  },
  {
   "cell_type": "markdown",
   "metadata": {},
   "source": [
    "<hr style=\"border:2px solid black\">\n",
    "\n",
    "# **Explore**\n",
    "Plan --> Acquire --> Prepare --> **Explore** --> Model --> Deliver"
   ]
  },
  {
   "cell_type": "code",
   "execution_count": 770,
   "metadata": {},
   "outputs": [],
   "source": [
    "cat_cols, num_cols = wr.organize_columns(train)"
   ]
  },
  {
   "cell_type": "code",
   "execution_count": 771,
   "metadata": {},
   "outputs": [],
   "source": [
    "# wr.check_cat_distribution(df)"
   ]
  },
  {
   "cell_type": "markdown",
   "metadata": {},
   "source": [
    "## Bivariate Analysis"
   ]
  },
  {
   "cell_type": "code",
   "execution_count": 772,
   "metadata": {},
   "outputs": [
    {
     "data": {
      "text/plain": [
       "Index(['fixed_acidity', 'volatile_acidity', 'citric_acid', 'residual_sugar',\n",
       "       'chlorides', 'free_sulfur_dioxide', 'total_sulfur_dioxide', 'density',\n",
       "       'ph', 'sulphates', 'alcohol', 'quality', 'is_red'],\n",
       "      dtype='object')"
      ]
     },
     "execution_count": 772,
     "metadata": {},
     "output_type": "execute_result"
    }
   ],
   "source": [
    "train.columns"
   ]
  },
  {
   "cell_type": "code",
   "execution_count": 773,
   "metadata": {},
   "outputs": [],
   "source": [
    "# for col in train[num_cols]:\n",
    "#    sns.swarmplot(data=train.sample(1000), y=df[col], x='quality')\n",
    "#    t = col.lower()\n",
    "#    plt.title(t)\n",
    "#    plt.show()"
   ]
  },
  {
   "cell_type": "markdown",
   "metadata": {},
   "source": [
    ">"
   ]
  },
  {
   "cell_type": "markdown",
   "metadata": {},
   "source": [
    "> ### Takeaways:\n",
    ">\n",
    "> #### Relationships to target:\n",
    "> - fixed_acidity: looks to have a negative correlation with quality\n",
    "> - volatile_acidity: looks to have a strong negative correlation with quality\n",
    "> - citric_acid: doesn't seem to have a linear correlation, there may be a signal revealed after clustering\n",
    "> - chlorides: possibly a negative corelation with quality\n",
    "> - free_sulfur_dioxide: relationship unclear\n",
    "> - total_sulfur_dioxide: possible positive correlation\n",
    "> - density: Pretty clear negative correlation\n",
    "> - ph: Not a clear relationship\n",
    "> - sulphates: Not a clear relationship\n",
    "> - alcohol: Positive linear correlation\n",
    ">\n",
    "> Best features:\n",
    "> * fixed_acidity: negative\n",
    "> * volatile_acidity: strong negative\n",
    "> * density: negative\n",
    "> * alcohol: positive\n",
    ">\n",
    "> Not sure, lets do hypothesis testing:\n",
    "> * chlorides\n",
    "> * total_sulfur_dioxide\n",
    ">\n",
    "> Signal Unclear, let's cluster these:\n",
    "> * citric_acid\n",
    "> * ph\n",
    "> * sulphates"
   ]
  },
  {
   "cell_type": "markdown",
   "metadata": {},
   "source": [
    "## Multivariate Analysis"
   ]
  },
  {
   "cell_type": "code",
   "execution_count": 774,
   "metadata": {},
   "outputs": [],
   "source": [
    "sns.scatterplot(data=train, x='sulphates', y='citric_acid', hue='quality', palette='coolwarm')"
   ]
  },
  {
   "cell_type": "markdown",
   "metadata": {},
   "source": [
    "> citric_acid: Looks like there is something happening below about 0.25 and above about 0.5. Good candidate for clustering"
   ]
  },
  {
   "cell_type": "code",
   "execution_count": 775,
   "metadata": {},
   "outputs": [],
   "source": [
    "sns.scatterplot(data=train, x='sulphates', y='total_sulfur_dioxide', hue='quality', palette='coolwarm')"
   ]
  },
  {
   "cell_type": "markdown",
   "metadata": {},
   "source": [
    "> "
   ]
  },
  {
   "cell_type": "markdown",
   "metadata": {},
   "source": [
    "> total_sulfur_dioxide: Looks like there is something happening below about 75 and above about 150. Good candidate for clustering."
   ]
  },
  {
   "cell_type": "code",
   "execution_count": 776,
   "metadata": {},
   "outputs": [],
   "source": [
    "sns.scatterplot(data=train, x='sulphates', y='volatile_acidity', hue='quality', palette='coolwarm')"
   ]
  },
  {
   "cell_type": "markdown",
   "metadata": {},
   "source": [
    "> sulphates: Maybe some signal below 0.50?"
   ]
  },
  {
   "cell_type": "code",
   "execution_count": 777,
   "metadata": {},
   "outputs": [],
   "source": [
    "sns.scatterplot(data=train.sample(1000), x='sulphates', y='total_sulfur_dioxide', hue='quality', palette='coolwarm')"
   ]
  },
  {
   "cell_type": "markdown",
   "metadata": {},
   "source": [
    "### Q1. Is there a relationship between fixed_acidity and quality?\n",
    "<div style=\"background-color: #A9CCE3; box-shadow: 0 0 0 1px black; padding: 5px;\">\n",
    "\n",
    "Assumptions:\n",
    "Normality: both quality and fixed_acidity have relatively normal distribution.\n",
    "\n",
    "\n",
    "**I will now use a Spearman correlation to check for a monotonic relationship betwen fixed_acidity and quality.**\n",
    "\n",
    "* I will use a confidence interval of 95% \n",
    "* The resulting alpha is .05<br>\n",
    "\n",
    "**H0: There is no ordinal correlation between fixed_acidity and quality.**<br>\n",
    "**Ha: There is an ordinal correlation between fixed_acidity and quality.**\n",
    "</div>"
   ]
  },
  {
   "cell_type": "code",
   "execution_count": 778,
   "metadata": {},
   "outputs": [
    {
     "name": "stdout",
     "output_type": "stream",
     "text": [
      "We can reject our null hypothesis and suggest that there is a relationship between fixed_acidity and quality.\n",
      "-0.10158339416874636 5.217750741281213e-11\n"
     ]
    }
   ],
   "source": [
    "# set alpha\n",
    "alpha = 0.05\n",
    "\n",
    "r, p = stats.spearmanr(train.fixed_acidity, train.quality)\n",
    "\n",
    "if p < alpha:\n",
    "    print('We can reject our null hypothesis and suggest that there is a relationship between fixed_acidity and quality.')\n",
    "    print(r, p)\n",
    "else:\n",
    "    print('We fail to reject the null hypothesis')\n",
    "    print(r, p)\n"
   ]
  },
  {
   "cell_type": "markdown",
   "metadata": {},
   "source": [
    "### Q2. Is there a relationship between chlorides and quality?\n",
    "\n",
    "<div style=\"background-color: #A9CCE3; box-shadow: 0 0 0 1px black; padding: 5px;\">\n",
    "\n",
    "Assumptions:\n",
    "Normality: both quality and chlorides have relatively normal distribution.\n",
    "\n",
    "\n",
    "**I will now use a Spearman correlation to check for a monotonic relationship betwen chlorides and quality.**\n",
    "\n",
    "* I will use a confidence interval of 95% \n",
    "* The resulting alpha is .05<br>\n",
    "\n",
    "**H0: There is no ordinal correlation between chlorides and quality.**<br>\n",
    "**Ha: There is an ordinal correlation between chlorides and quality.**\n",
    "</div>"
   ]
  },
  {
   "cell_type": "code",
   "execution_count": 779,
   "metadata": {},
   "outputs": [
    {
     "name": "stdout",
     "output_type": "stream",
     "text": [
      "We can reject our null hypothesis and suggest that there is a relationship between chlorides and quality.\n",
      "-0.30451919102860586 6.36435669486711e-90\n"
     ]
    }
   ],
   "source": [
    "r, p = stats.spearmanr(train.chlorides, train.quality)\n",
    "\n",
    "if p < alpha:\n",
    "    print('We can reject our null hypothesis and suggest that there is a relationship between chlorides and quality.')\n",
    "    print(r, p)\n",
    "else:\n",
    "    print('We fail to reject the null hypothesis')\n",
    "    print(r, p)"
   ]
  },
  {
   "cell_type": "markdown",
   "metadata": {},
   "source": [
    "### Q3. Is there a relationship between total_sulfur_dioxide and quality?\n",
    "\n",
    "<div style=\"background-color: #A9CCE3; box-shadow: 0 0 0 1px black; padding: 5px;\">\n",
    "\n",
    "Assumptions:\n",
    "Normality: both quality and total_sulfur_dioxide have relatively normal distribution.\n",
    "\n",
    "\n",
    "**I will now use a Spearman correlation to check for a monotonic relationship between total_sulfur_dioxide and quality.**\n",
    "\n",
    "* I will use a confidence interval of 95% \n",
    "* The resulting alpha is .05<br>\n",
    "\n",
    "**H0: There is no ordinal correlation between total_sulfur_dioxide and quality.**<br>\n",
    "**Ha: There is an ordinal correlation between total_sulfur_dioxide and quality.**\n",
    "</div>"
   ]
  },
  {
   "cell_type": "code",
   "execution_count": 780,
   "metadata": {},
   "outputs": [
    {
     "name": "stdout",
     "output_type": "stream",
     "text": [
      "We can reject our null hypothesis and suggest that there is a relationship between total_sulfur_dioxide and quality.\n",
      "-0.03761888506073406 0.015283136547943535\n"
     ]
    }
   ],
   "source": [
    "r, p = stats.spearmanr(train.total_sulfur_dioxide, train.quality)\n",
    "\n",
    "if p < alpha:\n",
    "    print('We can reject our null hypothesis and suggest that there is a relationship between total_sulfur_dioxide and quality.')\n",
    "    print(r, p)\n",
    "else:\n",
    "    print('We fail to reject the null hypothesis')\n",
    "    print(r, p)"
   ]
  },
  {
   "cell_type": "markdown",
   "metadata": {},
   "source": [
    "## Clustering\n",
    "> * citric_acid, total_sulfur_dioxide, sulphates"
   ]
  },
  {
   "cell_type": "code",
   "execution_count": 781,
   "metadata": {},
   "outputs": [
    {
     "data": {
      "text/html": [
       "<div>\n",
       "<style scoped>\n",
       "    .dataframe tbody tr th:only-of-type {\n",
       "        vertical-align: middle;\n",
       "    }\n",
       "\n",
       "    .dataframe tbody tr th {\n",
       "        vertical-align: top;\n",
       "    }\n",
       "\n",
       "    .dataframe thead th {\n",
       "        text-align: right;\n",
       "    }\n",
       "</style>\n",
       "<table border=\"1\" class=\"dataframe\">\n",
       "  <thead>\n",
       "    <tr style=\"text-align: right;\">\n",
       "      <th></th>\n",
       "      <th>is_red</th>\n",
       "      <th>fixed_acidity_scaled</th>\n",
       "      <th>volatile_acidity_scaled</th>\n",
       "      <th>citric_acid_scaled</th>\n",
       "      <th>residual_sugar_scaled</th>\n",
       "      <th>chlorides_scaled</th>\n",
       "      <th>free_sulfur_dioxide_scaled</th>\n",
       "      <th>total_sulfur_dioxide_scaled</th>\n",
       "      <th>density_scaled</th>\n",
       "      <th>ph_scaled</th>\n",
       "      <th>sulphates_scaled</th>\n",
       "      <th>alcohol_scaled</th>\n",
       "      <th>clusters_1</th>\n",
       "      <th>clusters_2</th>\n",
       "      <th>clusters_3</th>\n",
       "      <th>clusters_4</th>\n",
       "    </tr>\n",
       "  </thead>\n",
       "  <tbody>\n",
       "    <tr>\n",
       "      <th>878</th>\n",
       "      <td>0</td>\n",
       "      <td>-0.798131</td>\n",
       "      <td>-1.091954</td>\n",
       "      <td>1.487300</td>\n",
       "      <td>-0.854687</td>\n",
       "      <td>1.959193</td>\n",
       "      <td>0.384975</td>\n",
       "      <td>-0.085011</td>\n",
       "      <td>-0.524179</td>\n",
       "      <td>0.071228</td>\n",
       "      <td>-1.087234</td>\n",
       "      <td>-1.324979</td>\n",
       "      <td>0</td>\n",
       "      <td>3</td>\n",
       "      <td>1</td>\n",
       "      <td>2</td>\n",
       "    </tr>\n",
       "    <tr>\n",
       "      <th>5717</th>\n",
       "      <td>1</td>\n",
       "      <td>1.416683</td>\n",
       "      <td>1.900400</td>\n",
       "      <td>-1.145879</td>\n",
       "      <td>-0.472983</td>\n",
       "      <td>1.140879</td>\n",
       "      <td>-1.212116</td>\n",
       "      <td>-0.979316</td>\n",
       "      <td>1.692463</td>\n",
       "      <td>0.379530</td>\n",
       "      <td>0.035623</td>\n",
       "      <td>-0.737533</td>\n",
       "      <td>3</td>\n",
       "      <td>0</td>\n",
       "      <td>5</td>\n",
       "      <td>1</td>\n",
       "    </tr>\n",
       "    <tr>\n",
       "      <th>3760</th>\n",
       "      <td>0</td>\n",
       "      <td>0.423835</td>\n",
       "      <td>-0.852565</td>\n",
       "      <td>0.001917</td>\n",
       "      <td>-0.091279</td>\n",
       "      <td>-1.144755</td>\n",
       "      <td>0.042741</td>\n",
       "      <td>-0.242830</td>\n",
       "      <td>-0.976969</td>\n",
       "      <td>-1.408622</td>\n",
       "      <td>-0.955134</td>\n",
       "      <td>0.437360</td>\n",
       "      <td>1</td>\n",
       "      <td>1</td>\n",
       "      <td>0</td>\n",
       "      <td>2</td>\n",
       "    </tr>\n",
       "    <tr>\n",
       "      <th>3318</th>\n",
       "      <td>0</td>\n",
       "      <td>-0.492639</td>\n",
       "      <td>-1.091954</td>\n",
       "      <td>0.204469</td>\n",
       "      <td>-0.769864</td>\n",
       "      <td>-0.411095</td>\n",
       "      <td>-0.242453</td>\n",
       "      <td>-0.172688</td>\n",
       "      <td>-1.733871</td>\n",
       "      <td>-0.175414</td>\n",
       "      <td>1.422682</td>\n",
       "      <td>1.612252</td>\n",
       "      <td>2</td>\n",
       "      <td>2</td>\n",
       "      <td>2</td>\n",
       "      <td>2</td>\n",
       "    </tr>\n",
       "    <tr>\n",
       "      <th>5369</th>\n",
       "      <td>1</td>\n",
       "      <td>1.798547</td>\n",
       "      <td>1.182235</td>\n",
       "      <td>0.677091</td>\n",
       "      <td>-0.642629</td>\n",
       "      <td>0.689396</td>\n",
       "      <td>-0.299492</td>\n",
       "      <td>-1.102064</td>\n",
       "      <td>0.759851</td>\n",
       "      <td>-0.113754</td>\n",
       "      <td>1.158481</td>\n",
       "      <td>0.773043</td>\n",
       "      <td>2</td>\n",
       "      <td>2</td>\n",
       "      <td>2</td>\n",
       "      <td>1</td>\n",
       "    </tr>\n",
       "    <tr>\n",
       "      <th>...</th>\n",
       "      <td>...</td>\n",
       "      <td>...</td>\n",
       "      <td>...</td>\n",
       "      <td>...</td>\n",
       "      <td>...</td>\n",
       "      <td>...</td>\n",
       "      <td>...</td>\n",
       "      <td>...</td>\n",
       "      <td>...</td>\n",
       "      <td>...</td>\n",
       "      <td>...</td>\n",
       "      <td>...</td>\n",
       "      <td>...</td>\n",
       "      <td>...</td>\n",
       "      <td>...</td>\n",
       "      <td>...</td>\n",
       "    </tr>\n",
       "    <tr>\n",
       "      <th>1104</th>\n",
       "      <td>0</td>\n",
       "      <td>0.041971</td>\n",
       "      <td>-0.194247</td>\n",
       "      <td>2.500061</td>\n",
       "      <td>1.011422</td>\n",
       "      <td>-0.439313</td>\n",
       "      <td>1.582794</td>\n",
       "      <td>0.791759</td>\n",
       "      <td>0.996383</td>\n",
       "      <td>-0.976999</td>\n",
       "      <td>-0.558831</td>\n",
       "      <td>-1.576742</td>\n",
       "      <td>0</td>\n",
       "      <td>3</td>\n",
       "      <td>1</td>\n",
       "      <td>0</td>\n",
       "    </tr>\n",
       "    <tr>\n",
       "      <th>3039</th>\n",
       "      <td>0</td>\n",
       "      <td>-0.721758</td>\n",
       "      <td>-0.433636</td>\n",
       "      <td>-0.200636</td>\n",
       "      <td>1.435538</td>\n",
       "      <td>-0.354659</td>\n",
       "      <td>1.639833</td>\n",
       "      <td>1.423033</td>\n",
       "      <td>1.036931</td>\n",
       "      <td>-0.483716</td>\n",
       "      <td>-0.889083</td>\n",
       "      <td>-1.408900</td>\n",
       "      <td>0</td>\n",
       "      <td>3</td>\n",
       "      <td>1</td>\n",
       "      <td>0</td>\n",
       "    </tr>\n",
       "    <tr>\n",
       "      <th>3242</th>\n",
       "      <td>0</td>\n",
       "      <td>-0.187148</td>\n",
       "      <td>-0.313942</td>\n",
       "      <td>0.204469</td>\n",
       "      <td>-0.854687</td>\n",
       "      <td>-0.580401</td>\n",
       "      <td>0.670170</td>\n",
       "      <td>-0.102546</td>\n",
       "      <td>-1.203364</td>\n",
       "      <td>0.564511</td>\n",
       "      <td>0.564027</td>\n",
       "      <td>0.940885</td>\n",
       "      <td>1</td>\n",
       "      <td>1</td>\n",
       "      <td>4</td>\n",
       "      <td>2</td>\n",
       "    </tr>\n",
       "    <tr>\n",
       "      <th>3405</th>\n",
       "      <td>0</td>\n",
       "      <td>-1.103622</td>\n",
       "      <td>-1.151801</td>\n",
       "      <td>0.001917</td>\n",
       "      <td>-0.897099</td>\n",
       "      <td>-0.552183</td>\n",
       "      <td>-0.926921</td>\n",
       "      <td>0.072808</td>\n",
       "      <td>-1.142541</td>\n",
       "      <td>-0.175414</td>\n",
       "      <td>-0.228579</td>\n",
       "      <td>-0.234008</td>\n",
       "      <td>1</td>\n",
       "      <td>1</td>\n",
       "      <td>0</td>\n",
       "      <td>2</td>\n",
       "    </tr>\n",
       "    <tr>\n",
       "      <th>5997</th>\n",
       "      <td>1</td>\n",
       "      <td>1.034818</td>\n",
       "      <td>1.062541</td>\n",
       "      <td>0.407021</td>\n",
       "      <td>-0.833481</td>\n",
       "      <td>1.112662</td>\n",
       "      <td>-1.440272</td>\n",
       "      <td>-1.698267</td>\n",
       "      <td>0.644964</td>\n",
       "      <td>-0.113754</td>\n",
       "      <td>-0.096478</td>\n",
       "      <td>-0.905375</td>\n",
       "      <td>2</td>\n",
       "      <td>2</td>\n",
       "      <td>2</td>\n",
       "      <td>1</td>\n",
       "    </tr>\n",
       "  </tbody>\n",
       "</table>\n",
       "<p>1040 rows × 16 columns</p>\n",
       "</div>"
      ],
      "text/plain": [
       "      is_red  fixed_acidity_scaled  volatile_acidity_scaled  \\\n",
       "878        0             -0.798131                -1.091954   \n",
       "5717       1              1.416683                 1.900400   \n",
       "3760       0              0.423835                -0.852565   \n",
       "3318       0             -0.492639                -1.091954   \n",
       "5369       1              1.798547                 1.182235   \n",
       "...      ...                   ...                      ...   \n",
       "1104       0              0.041971                -0.194247   \n",
       "3039       0             -0.721758                -0.433636   \n",
       "3242       0             -0.187148                -0.313942   \n",
       "3405       0             -1.103622                -1.151801   \n",
       "5997       1              1.034818                 1.062541   \n",
       "\n",
       "      citric_acid_scaled  residual_sugar_scaled  chlorides_scaled  \\\n",
       "878             1.487300              -0.854687          1.959193   \n",
       "5717           -1.145879              -0.472983          1.140879   \n",
       "3760            0.001917              -0.091279         -1.144755   \n",
       "3318            0.204469              -0.769864         -0.411095   \n",
       "5369            0.677091              -0.642629          0.689396   \n",
       "...                  ...                    ...               ...   \n",
       "1104            2.500061               1.011422         -0.439313   \n",
       "3039           -0.200636               1.435538         -0.354659   \n",
       "3242            0.204469              -0.854687         -0.580401   \n",
       "3405            0.001917              -0.897099         -0.552183   \n",
       "5997            0.407021              -0.833481          1.112662   \n",
       "\n",
       "      free_sulfur_dioxide_scaled  total_sulfur_dioxide_scaled  density_scaled  \\\n",
       "878                     0.384975                    -0.085011       -0.524179   \n",
       "5717                   -1.212116                    -0.979316        1.692463   \n",
       "3760                    0.042741                    -0.242830       -0.976969   \n",
       "3318                   -0.242453                    -0.172688       -1.733871   \n",
       "5369                   -0.299492                    -1.102064        0.759851   \n",
       "...                          ...                          ...             ...   \n",
       "1104                    1.582794                     0.791759        0.996383   \n",
       "3039                    1.639833                     1.423033        1.036931   \n",
       "3242                    0.670170                    -0.102546       -1.203364   \n",
       "3405                   -0.926921                     0.072808       -1.142541   \n",
       "5997                   -1.440272                    -1.698267        0.644964   \n",
       "\n",
       "      ph_scaled  sulphates_scaled  alcohol_scaled  clusters_1  clusters_2  \\\n",
       "878    0.071228         -1.087234       -1.324979           0           3   \n",
       "5717   0.379530          0.035623       -0.737533           3           0   \n",
       "3760  -1.408622         -0.955134        0.437360           1           1   \n",
       "3318  -0.175414          1.422682        1.612252           2           2   \n",
       "5369  -0.113754          1.158481        0.773043           2           2   \n",
       "...         ...               ...             ...         ...         ...   \n",
       "1104  -0.976999         -0.558831       -1.576742           0           3   \n",
       "3039  -0.483716         -0.889083       -1.408900           0           3   \n",
       "3242   0.564511          0.564027        0.940885           1           1   \n",
       "3405  -0.175414         -0.228579       -0.234008           1           1   \n",
       "5997  -0.113754         -0.096478       -0.905375           2           2   \n",
       "\n",
       "      clusters_3  clusters_4  \n",
       "878            1           2  \n",
       "5717           5           1  \n",
       "3760           0           2  \n",
       "3318           2           2  \n",
       "5369           2           1  \n",
       "...          ...         ...  \n",
       "1104           1           0  \n",
       "3039           1           0  \n",
       "3242           4           2  \n",
       "3405           0           2  \n",
       "5997           2           1  \n",
       "\n",
       "[1040 rows x 16 columns]"
      ]
     },
     "execution_count": 781,
     "metadata": {},
     "output_type": "execute_result"
    }
   ],
   "source": [
    "x_val_scaled"
   ]
  },
  {
   "cell_type": "code",
   "execution_count": 782,
   "metadata": {},
   "outputs": [],
   "source": [
    "cluster_features_1 = train_scaled[['citric_acid_scaled', 'sulphates_scaled', 'total_sulfur_dioxide_scaled']]\n",
    "cluster_features_1_val = validate_scaled[['citric_acid_scaled', 'sulphates_scaled', 'total_sulfur_dioxide_scaled']]\n",
    "cluster_features_1_test = test_scaled[['citric_acid_scaled', 'sulphates_scaled', 'total_sulfur_dioxide_scaled']]\n",
    "\n",
    "\n",
    "cluster_features_2 = train_scaled[['citric_acid_scaled', 'sulphates_scaled', 'total_sulfur_dioxide_scaled', 'chlorides_scaled']]\n",
    "cluster_features_2_val = validate_scaled[['citric_acid_scaled', 'sulphates_scaled', 'total_sulfur_dioxide_scaled', 'chlorides_scaled']]\n",
    "cluster_features_2_test = test_scaled[['citric_acid_scaled', 'sulphates_scaled', 'total_sulfur_dioxide_scaled', 'chlorides_scaled']]\n",
    "\n",
    "\n",
    "cluster_features_3 = train_scaled[['citric_acid_scaled', 'sulphates_scaled', 'total_sulfur_dioxide_scaled', 'chlorides_scaled', 'ph_scaled']]\n",
    "cluster_features_3_val = validate_scaled[['citric_acid_scaled', 'sulphates_scaled', 'total_sulfur_dioxide_scaled', 'chlorides_scaled', 'ph_scaled']]\n",
    "cluster_features_3_test = test_scaled[['citric_acid_scaled', 'sulphates_scaled', 'total_sulfur_dioxide_scaled', 'chlorides_scaled', 'ph_scaled']]\n",
    "\n",
    "\n",
    "cluster_features_4 = train_scaled.drop(columns=['quality'])\n",
    "cluster_features_4_val = validate_scaled.drop(columns=['quality'])\n",
    "cluster_features_4_test = test_scaled.drop(columns=['quality'])"
   ]
  },
  {
   "cell_type": "markdown",
   "metadata": {},
   "source": [
    "### KMeans"
   ]
  },
  {
   "cell_type": "code",
   "execution_count": 783,
   "metadata": {},
   "outputs": [
    {
     "data": {
      "image/png": "[encoded data removed]",
      "text/plain": [
       "<Figure size 900x600 with 1 Axes>"
      ]
     },
     "metadata": {},
     "output_type": "display_data"
    }
   ],
   "source": [
    "with plt.style.context('seaborn-whitegrid'):\n",
    "    plt.figure(figsize=(9,6))\n",
    "    pd.Series({k: KMeans(k).fit(cluster_features_1).inertia_ for k in range(2, 12)}).plot(marker='x')\n",
    "    plt.xticks(range(2, 12))\n",
    "    plt.xlabel('k')\n",
    "    plt.title('cluster_features_1')\n",
    "    plt.ylabel('inertia')"
   ]
  },
  {
   "cell_type": "code",
   "execution_count": 784,
   "metadata": {},
   "outputs": [
    {
     "data": {
      "image/png": "[encoded data removed]",
      "text/plain": [
       "<Figure size 900x600 with 1 Axes>"
      ]
     },
     "metadata": {},
     "output_type": "display_data"
    }
   ],
   "source": [
    "with plt.style.context('seaborn-whitegrid'):\n",
    "    plt.figure(figsize=(9,6))\n",
    "    pd.Series({k: KMeans(k).fit(cluster_features_2).inertia_ for k in range(2, 12)}).plot(marker='x')\n",
    "    plt.xticks(range(2, 12))\n",
    "    plt.xlabel('k')\n",
    "    plt.title('cluster_features_2')\n",
    "    plt.ylabel('inertia')"
   ]
  },
  {
   "cell_type": "code",
   "execution_count": 785,
   "metadata": {},
   "outputs": [
    {
     "data": {
      "image/png": "[encoded data removed]",
      "text/plain": [
       "<Figure size 900x600 with 1 Axes>"
      ]
     },
     "metadata": {},
     "output_type": "display_data"
    }
   ],
   "source": [
    "with plt.style.context('seaborn-whitegrid'):\n",
    "    plt.figure(figsize=(9,6))\n",
    "    pd.Series({k: KMeans(k).fit(cluster_features_3).inertia_ for k in range(2, 12)}).plot(marker='x')\n",
    "    plt.xticks(range(2, 12))\n",
    "    plt.xlabel('k')\n",
    "    plt.title('cluster_features_3')\n",
    "    plt.ylabel('inertia')"
   ]
  },
  {
   "cell_type": "code",
   "execution_count": 786,
   "metadata": {},
   "outputs": [
    {
     "data": {
      "image/png": "[encoded data removed]",
      "text/plain": [
       "<Figure size 900x600 with 1 Axes>"
      ]
     },
     "metadata": {},
     "output_type": "display_data"
    }
   ],
   "source": [
    "with plt.style.context('seaborn-whitegrid'):\n",
    "    plt.figure(figsize=(9,6))\n",
    "    pd.Series({k: KMeans(k).fit(cluster_features_4).inertia_ for k in range(2, 12)}).plot(marker='x')\n",
    "    plt.xticks(range(2, 12))\n",
    "    plt.xlabel('k')\n",
    "    plt.title('cluster_features_4')\n",
    "    plt.ylabel('inertia')"
   ]
  },
  {
   "cell_type": "markdown",
   "metadata": {},
   "source": [
    "> cluster_features_1: k=4 \\\n",
    "> cluster_features_2: k=5 \\\n",
    "> cluster_features_3: k=6 \\\n",
    "> cluster_features_4: k=3"
   ]
  },
  {
   "cell_type": "code",
   "execution_count": 787,
   "metadata": {},
   "outputs": [],
   "source": [
    "kmeans_1 = KMeans(n_clusters=4)\n",
    "kmeans_2 = KMeans(n_clusters=5)\n",
    "kmeans_3 = KMeans(n_clusters=6)\n",
    "kmeans_4 = KMeans(n_clusters=3)\n",
    "\n",
    "kmeans_1.fit(cluster_features_1)\n",
    "kmeans_2.fit(cluster_features_2)\n",
    "kmeans_3.fit(cluster_features_3)\n",
    "kmeans_4.fit(cluster_features_4)\n",
    "\n",
    "# Predict on train\n",
    "clusters_1_train = kmeans_1.predict(cluster_features_1)\n",
    "clusters_2_train = kmeans_2.predict(cluster_features_2)\n",
    "clusters_3_train = kmeans_3.predict(cluster_features_3)\n",
    "clusters_4_train = kmeans_4.predict(cluster_features_4)\n",
    "\n",
    "# Predict on Val\n",
    "clusters_1_val = kmeans_1.predict(cluster_features_1_val)\n",
    "clusters_2_val = kmeans_2.predict(cluster_features_2_val)\n",
    "clusters_3_val = kmeans_3.predict(cluster_features_3_val)\n",
    "clusters_4_val = kmeans_4.predict(cluster_features_4_val)\n",
    "\n",
    "# Add predictions to dataframes\n",
    "train_scaled['clusters_1'] = clusters_1_train\n",
    "train_scaled['clusters_2'] = clusters_2_train\n",
    "train_scaled['clusters_3'] = clusters_3_train\n",
    "train_scaled['clusters_4'] = clusters_4_train\n",
    "\n",
    "validate_scaled['clusters_1'] = clusters_1_val\n",
    "validate_scaled['clusters_2'] = clusters_2_val\n",
    "validate_scaled['clusters_3'] = clusters_3_val\n",
    "validate_scaled['clusters_4'] = clusters_4_val\n"
   ]
  },
  {
   "cell_type": "code",
   "execution_count": 788,
   "metadata": {},
   "outputs": [
    {
     "data": {
      "text/plain": [
       "Index(['quality', 'is_red', 'fixed_acidity_scaled', 'volatile_acidity_scaled',\n",
       "       'citric_acid_scaled', 'residual_sugar_scaled', 'chlorides_scaled',\n",
       "       'free_sulfur_dioxide_scaled', 'total_sulfur_dioxide_scaled',\n",
       "       'density_scaled', 'ph_scaled', 'sulphates_scaled', 'alcohol_scaled',\n",
       "       'clusters_1', 'clusters_2', 'clusters_3', 'clusters_4'],\n",
       "      dtype='object')"
      ]
     },
     "execution_count": 788,
     "metadata": {},
     "output_type": "execute_result"
    }
   ],
   "source": [
    "train_scaled.columns"
   ]
  },
  {
   "cell_type": "code",
   "execution_count": 789,
   "metadata": {},
   "outputs": [
    {
     "data": {
      "text/plain": [
       "Text(0.5, 1.0, 'Cluster Model 1')"
      ]
     },
     "execution_count": 789,
     "metadata": {},
     "output_type": "execute_result"
    },
    {
     "data": {
      "image/png": "[encoded data removed]",
      "text/plain": [
       "<Figure size 640x480 with 1 Axes>"
      ]
     },
     "metadata": {},
     "output_type": "display_data"
    }
   ],
   "source": [
    "sns.barplot(data=train_scaled.sample(1000), y='quality', x='clusters_1')\n",
    "plt.title('Cluster Model 1')"
   ]
  },
  {
   "cell_type": "code",
   "execution_count": 790,
   "metadata": {},
   "outputs": [
    {
     "data": {
      "text/plain": [
       "Text(0.5, 1.0, 'Cluster Model 2')"
      ]
     },
     "execution_count": 790,
     "metadata": {},
     "output_type": "execute_result"
    },
    {
     "data": {
      "image/png": "[encoded data removed]",
      "text/plain": [
       "<Figure size 640x480 with 1 Axes>"
      ]
     },
     "metadata": {},
     "output_type": "display_data"
    }
   ],
   "source": [
    "sns.barplot(data=train_scaled.sample(1000), y='quality', x='clusters_2')\n",
    "plt.title('Cluster Model 2')"
   ]
  },
  {
   "cell_type": "code",
   "execution_count": 791,
   "metadata": {},
   "outputs": [
    {
     "data": {
      "text/plain": [
       "Text(0.5, 1.0, 'Cluster Model 3')"
      ]
     },
     "execution_count": 791,
     "metadata": {},
     "output_type": "execute_result"
    },
    {
     "data": {
      "image/png": "[encoded data removed]",
      "text/plain": [
       "<Figure size 640x480 with 1 Axes>"
      ]
     },
     "metadata": {},
     "output_type": "display_data"
    }
   ],
   "source": [
    "sns.barplot(data=train_scaled.sample(1000), y='quality', x='clusters_3')\n",
    "plt.title('Cluster Model 3')"
   ]
  },
  {
   "cell_type": "code",
   "execution_count": 792,
   "metadata": {},
   "outputs": [
    {
     "data": {
      "text/plain": [
       "Text(0.5, 1.0, 'Cluster Model 4')"
      ]
     },
     "execution_count": 792,
     "metadata": {},
     "output_type": "execute_result"
    },
    {
     "data": {
      "image/png": "[encoded data removed]",
      "text/plain": [
       "<Figure size 640x480 with 1 Axes>"
      ]
     },
     "metadata": {},
     "output_type": "display_data"
    }
   ],
   "source": [
    "sns.barplot(data=train_scaled.sample(1000), y='quality', x='clusters_4')\n",
    "plt.title('Cluster Model 4')"
   ]
  },
  {
   "cell_type": "markdown",
   "metadata": {},
   "source": [
    "### Q4. cluster 1, 2, 3 (Anova?)"
   ]
  },
  {
   "cell_type": "code",
   "execution_count": null,
   "metadata": {},
   "outputs": [],
   "source": []
  },
  {
   "cell_type": "markdown",
   "metadata": {},
   "source": [
    "<hr style=\"border:2px solid black\">\n",
    "\n",
    "# **Modeling**\n",
    "Plan --> Acquire --> Prepare --> Explore --> **Model** --> Deliver"
   ]
  },
  {
   "cell_type": "code",
   "execution_count": 793,
   "metadata": {},
   "outputs": [
    {
     "data": {
      "text/plain": [
       "0.43661294202549916"
      ]
     },
     "execution_count": 793,
     "metadata": {},
     "output_type": "execute_result"
    }
   ],
   "source": [
    "baseline = (train.quality == 6).sum()/ len(train)\n",
    "baseline"
   ]
  },
  {
   "cell_type": "code",
   "execution_count": 794,
   "metadata": {},
   "outputs": [],
   "source": [
    "# features\n",
    "best_independent = ['fixed_acidity_scaled', 'volatile_acidity_scaled','density_scaled', 'alcohol_scaled']\n",
    "features_1 = ['fixed_acidity_scaled', 'volatile_acidity_scaled','density_scaled', 'alcohol_scaled', 'clusters_1', 'is_red']\n",
    "features_2 = ['fixed_acidity_scaled', 'volatile_acidity_scaled','density_scaled', 'alcohol_scaled', 'clusters_2', 'is_red']\n",
    "features_3 = ['fixed_acidity_scaled', 'volatile_acidity_scaled','density_scaled', 'alcohol_scaled', 'clusters_3','is_red']"
   ]
  },
  {
   "cell_type": "code",
   "execution_count": 795,
   "metadata": {},
   "outputs": [
    {
     "data": {
      "text/plain": [
       "Index(['quality', 'is_red', 'fixed_acidity_scaled', 'volatile_acidity_scaled',\n",
       "       'citric_acid_scaled', 'residual_sugar_scaled', 'chlorides_scaled',\n",
       "       'free_sulfur_dioxide_scaled', 'total_sulfur_dioxide_scaled',\n",
       "       'density_scaled', 'ph_scaled', 'sulphates_scaled', 'alcohol_scaled',\n",
       "       'clusters_1', 'clusters_2', 'clusters_3', 'clusters_4'],\n",
       "      dtype='object')"
      ]
     },
     "execution_count": 795,
     "metadata": {},
     "output_type": "execute_result"
    }
   ],
   "source": [
    "train_scaled.columns"
   ]
  },
  {
   "cell_type": "code",
   "execution_count": 796,
   "metadata": {},
   "outputs": [],
   "source": [
    "# split into x and y for each distinct feature space\n",
    "\n",
    "x_train_scaled = train_scaled.drop(columns=['quality'])\n",
    "x_train_1 = x_train_scaled[features_1]\n",
    "x_train_2 = x_train_scaled[features_2]\n",
    "x_train_3 = x_train_scaled[features_3]\n",
    "x_train_4 = x_train_scaled[features_4]\n",
    "y_train = train.quality.to_frame()\n",
    "\n",
    "x_val_scaled = validate_scaled.drop(columns=['quality'])\n",
    "x_validate_1 = x_val_scaled[features_1]\n",
    "x_validate_2 = x_val_scaled[features_2]\n",
    "x_validate_3 = x_val_scaled[features_3]\n",
    "x_validate_4 = x_val_scaled[features_4]\n",
    "y_validate = validate.quality.to_frame()\n",
    "\n",
    "# x_test_scaled = test_scaled.drop(columns=['quality'])\n",
    "# x_test_1 = x_test_scaled[features_1]\n",
    "# y_test = test.quality.to_frame()"
   ]
  },
  {
   "cell_type": "markdown",
   "metadata": {},
   "source": [
    "## Decision Tree"
   ]
  },
  {
   "cell_type": "code",
   "execution_count": 797,
   "metadata": {},
   "outputs": [
    {
     "data": {
      "text/html": [
       "<div>\n",
       "<style scoped>\n",
       "    .dataframe tbody tr th:only-of-type {\n",
       "        vertical-align: middle;\n",
       "    }\n",
       "\n",
       "    .dataframe tbody tr th {\n",
       "        vertical-align: top;\n",
       "    }\n",
       "\n",
       "    .dataframe thead th {\n",
       "        text-align: right;\n",
       "    }\n",
       "</style>\n",
       "<table border=\"1\" class=\"dataframe\">\n",
       "  <thead>\n",
       "    <tr style=\"text-align: right;\">\n",
       "      <th></th>\n",
       "      <th>max_depth</th>\n",
       "      <th>baseline</th>\n",
       "      <th>train_acc</th>\n",
       "      <th>val_acc</th>\n",
       "    </tr>\n",
       "  </thead>\n",
       "  <tbody>\n",
       "    <tr>\n",
       "      <th>14</th>\n",
       "      <td>15</td>\n",
       "      <td>0.436613</td>\n",
       "      <td>0.862882</td>\n",
       "      <td>0.552885</td>\n",
       "    </tr>\n",
       "    <tr>\n",
       "      <th>13</th>\n",
       "      <td>14</td>\n",
       "      <td>0.436613</td>\n",
       "      <td>0.834255</td>\n",
       "      <td>0.552885</td>\n",
       "    </tr>\n",
       "    <tr>\n",
       "      <th>6</th>\n",
       "      <td>7</td>\n",
       "      <td>0.436613</td>\n",
       "      <td>0.604763</td>\n",
       "      <td>0.547115</td>\n",
       "    </tr>\n",
       "    <tr>\n",
       "      <th>4</th>\n",
       "      <td>5</td>\n",
       "      <td>0.436613</td>\n",
       "      <td>0.568679</td>\n",
       "      <td>0.546154</td>\n",
       "    </tr>\n",
       "    <tr>\n",
       "      <th>3</th>\n",
       "      <td>4</td>\n",
       "      <td>0.436613</td>\n",
       "      <td>0.557614</td>\n",
       "      <td>0.545192</td>\n",
       "    </tr>\n",
       "    <tr>\n",
       "      <th>16</th>\n",
       "      <td>17</td>\n",
       "      <td>0.436613</td>\n",
       "      <td>0.919894</td>\n",
       "      <td>0.544231</td>\n",
       "    </tr>\n",
       "    <tr>\n",
       "      <th>12</th>\n",
       "      <td>13</td>\n",
       "      <td>0.436613</td>\n",
       "      <td>0.792398</td>\n",
       "      <td>0.544231</td>\n",
       "    </tr>\n",
       "    <tr>\n",
       "      <th>7</th>\n",
       "      <td>8</td>\n",
       "      <td>0.436613</td>\n",
       "      <td>0.628097</td>\n",
       "      <td>0.543269</td>\n",
       "    </tr>\n",
       "    <tr>\n",
       "      <th>18</th>\n",
       "      <td>19</td>\n",
       "      <td>0.436613</td>\n",
       "      <td>0.958143</td>\n",
       "      <td>0.541346</td>\n",
       "    </tr>\n",
       "    <tr>\n",
       "      <th>10</th>\n",
       "      <td>11</td>\n",
       "      <td>0.436613</td>\n",
       "      <td>0.719509</td>\n",
       "      <td>0.540385</td>\n",
       "    </tr>\n",
       "    <tr>\n",
       "      <th>9</th>\n",
       "      <td>10</td>\n",
       "      <td>0.436613</td>\n",
       "      <td>0.685831</td>\n",
       "      <td>0.539423</td>\n",
       "    </tr>\n",
       "    <tr>\n",
       "      <th>8</th>\n",
       "      <td>9</td>\n",
       "      <td>0.436613</td>\n",
       "      <td>0.656964</td>\n",
       "      <td>0.539423</td>\n",
       "    </tr>\n",
       "    <tr>\n",
       "      <th>17</th>\n",
       "      <td>18</td>\n",
       "      <td>0.436613</td>\n",
       "      <td>0.940582</td>\n",
       "      <td>0.538462</td>\n",
       "    </tr>\n",
       "    <tr>\n",
       "      <th>15</th>\n",
       "      <td>16</td>\n",
       "      <td>0.436613</td>\n",
       "      <td>0.892952</td>\n",
       "      <td>0.537500</td>\n",
       "    </tr>\n",
       "    <tr>\n",
       "      <th>11</th>\n",
       "      <td>12</td>\n",
       "      <td>0.436613</td>\n",
       "      <td>0.752225</td>\n",
       "      <td>0.536538</td>\n",
       "    </tr>\n",
       "    <tr>\n",
       "      <th>5</th>\n",
       "      <td>6</td>\n",
       "      <td>0.436613</td>\n",
       "      <td>0.584556</td>\n",
       "      <td>0.533654</td>\n",
       "    </tr>\n",
       "    <tr>\n",
       "      <th>2</th>\n",
       "      <td>3</td>\n",
       "      <td>0.436613</td>\n",
       "      <td>0.532596</td>\n",
       "      <td>0.529808</td>\n",
       "    </tr>\n",
       "    <tr>\n",
       "      <th>1</th>\n",
       "      <td>2</td>\n",
       "      <td>0.436613</td>\n",
       "      <td>0.526341</td>\n",
       "      <td>0.526923</td>\n",
       "    </tr>\n",
       "    <tr>\n",
       "      <th>0</th>\n",
       "      <td>1</td>\n",
       "      <td>0.436613</td>\n",
       "      <td>0.474862</td>\n",
       "      <td>0.460577</td>\n",
       "    </tr>\n",
       "  </tbody>\n",
       "</table>\n",
       "</div>"
      ],
      "text/plain": [
       "    max_depth  baseline  train_acc   val_acc\n",
       "14         15  0.436613   0.862882  0.552885\n",
       "13         14  0.436613   0.834255  0.552885\n",
       "6           7  0.436613   0.604763  0.547115\n",
       "4           5  0.436613   0.568679  0.546154\n",
       "3           4  0.436613   0.557614  0.545192\n",
       "16         17  0.436613   0.919894  0.544231\n",
       "12         13  0.436613   0.792398  0.544231\n",
       "7           8  0.436613   0.628097  0.543269\n",
       "18         19  0.436613   0.958143  0.541346\n",
       "10         11  0.436613   0.719509  0.540385\n",
       "9          10  0.436613   0.685831  0.539423\n",
       "8           9  0.436613   0.656964  0.539423\n",
       "17         18  0.436613   0.940582  0.538462\n",
       "15         16  0.436613   0.892952  0.537500\n",
       "11         12  0.436613   0.752225  0.536538\n",
       "5           6  0.436613   0.584556  0.533654\n",
       "2           3  0.436613   0.532596  0.529808\n",
       "1           2  0.436613   0.526341  0.526923\n",
       "0           1  0.436613   0.474862  0.460577"
      ]
     },
     "execution_count": 797,
     "metadata": {},
     "output_type": "execute_result"
    }
   ],
   "source": [
    "scores_all = []\n",
    "\n",
    "for x in range(1,20):\n",
    "\n",
    "    clf = DecisionTreeClassifier(max_depth=x, random_state=666)\n",
    "    clf.fit(x_train_1, y_train)\n",
    "    \n",
    "    # evaluate on train\n",
    "    train_acc = clf.score(x_train_1, y_train)\n",
    "    \n",
    "    #evaluate on validate\n",
    "    val_acc = clf.score(x_validate_1, y_validate)\n",
    "    \n",
    "    scores_all.append([x,baseline, train_acc, val_acc])\n",
    "    \n",
    "scores_df = pd.DataFrame(scores_all, columns=['max_depth','baseline','train_acc','val_acc'])\n",
    "scores_df = pd.DataFrame(scores_all, columns=['max_depth','baseline','train_acc','val_acc'])\n",
    "scores_df.sort_values(by=['val_acc'], ascending=False).head(20)"
   ]
  },
  {
   "cell_type": "code",
   "execution_count": 798,
   "metadata": {},
   "outputs": [
    {
     "data": {
      "text/html": [
       "<div>\n",
       "<style scoped>\n",
       "    .dataframe tbody tr th:only-of-type {\n",
       "        vertical-align: middle;\n",
       "    }\n",
       "\n",
       "    .dataframe tbody tr th {\n",
       "        vertical-align: top;\n",
       "    }\n",
       "\n",
       "    .dataframe thead th {\n",
       "        text-align: right;\n",
       "    }\n",
       "</style>\n",
       "<table border=\"1\" class=\"dataframe\">\n",
       "  <thead>\n",
       "    <tr style=\"text-align: right;\">\n",
       "      <th></th>\n",
       "      <th>max_depth</th>\n",
       "      <th>baseline</th>\n",
       "      <th>train_acc</th>\n",
       "      <th>val_acc</th>\n",
       "    </tr>\n",
       "  </thead>\n",
       "  <tbody>\n",
       "    <tr>\n",
       "      <th>11</th>\n",
       "      <td>12</td>\n",
       "      <td>0.436613</td>\n",
       "      <td>0.756315</td>\n",
       "      <td>0.557692</td>\n",
       "    </tr>\n",
       "    <tr>\n",
       "      <th>17</th>\n",
       "      <td>18</td>\n",
       "      <td>0.436613</td>\n",
       "      <td>0.949723</td>\n",
       "      <td>0.556731</td>\n",
       "    </tr>\n",
       "    <tr>\n",
       "      <th>14</th>\n",
       "      <td>15</td>\n",
       "      <td>0.436613</td>\n",
       "      <td>0.875391</td>\n",
       "      <td>0.555769</td>\n",
       "    </tr>\n",
       "    <tr>\n",
       "      <th>16</th>\n",
       "      <td>17</td>\n",
       "      <td>0.436613</td>\n",
       "      <td>0.931922</td>\n",
       "      <td>0.554808</td>\n",
       "    </tr>\n",
       "    <tr>\n",
       "      <th>13</th>\n",
       "      <td>14</td>\n",
       "      <td>0.436613</td>\n",
       "      <td>0.838586</td>\n",
       "      <td>0.553846</td>\n",
       "    </tr>\n",
       "  </tbody>\n",
       "</table>\n",
       "</div>"
      ],
      "text/plain": [
       "    max_depth  baseline  train_acc   val_acc\n",
       "11         12  0.436613   0.756315  0.557692\n",
       "17         18  0.436613   0.949723  0.556731\n",
       "14         15  0.436613   0.875391  0.555769\n",
       "16         17  0.436613   0.931922  0.554808\n",
       "13         14  0.436613   0.838586  0.553846"
      ]
     },
     "execution_count": 798,
     "metadata": {},
     "output_type": "execute_result"
    }
   ],
   "source": [
    "scores_all = []\n",
    "\n",
    "for x in range(1,20):\n",
    "\n",
    "    clf = DecisionTreeClassifier(max_depth=x, random_state=666)\n",
    "    clf.fit(x_train_2, y_train)\n",
    "    \n",
    "    # evaluate on train\n",
    "    train_acc = clf.score(x_train_2, y_train)\n",
    "    \n",
    "    #evaluate on validate\n",
    "    val_acc = clf.score(x_validate_2, y_validate)\n",
    "    \n",
    "    scores_all.append([x,baseline, train_acc, val_acc])\n",
    "    \n",
    "scores_df = pd.DataFrame(scores_all, columns=['max_depth','baseline','train_acc','val_acc'])\n",
    "scores_df = pd.DataFrame(scores_all, columns=['max_depth','baseline','train_acc','val_acc'])\n",
    "scores_df.sort_values(by=['val_acc'], ascending=False).head()"
   ]
  },
  {
   "cell_type": "code",
   "execution_count": 799,
   "metadata": {},
   "outputs": [
    {
     "data": {
      "text/html": [
       "<div>\n",
       "<style scoped>\n",
       "    .dataframe tbody tr th:only-of-type {\n",
       "        vertical-align: middle;\n",
       "    }\n",
       "\n",
       "    .dataframe tbody tr th {\n",
       "        vertical-align: top;\n",
       "    }\n",
       "\n",
       "    .dataframe thead th {\n",
       "        text-align: right;\n",
       "    }\n",
       "</style>\n",
       "<table border=\"1\" class=\"dataframe\">\n",
       "  <thead>\n",
       "    <tr style=\"text-align: right;\">\n",
       "      <th></th>\n",
       "      <th>max_depth</th>\n",
       "      <th>baseline</th>\n",
       "      <th>train_acc</th>\n",
       "      <th>val_acc</th>\n",
       "    </tr>\n",
       "  </thead>\n",
       "  <tbody>\n",
       "    <tr>\n",
       "      <th>18</th>\n",
       "      <td>19</td>\n",
       "      <td>0.436613</td>\n",
       "      <td>0.964157</td>\n",
       "      <td>0.556731</td>\n",
       "    </tr>\n",
       "    <tr>\n",
       "      <th>17</th>\n",
       "      <td>18</td>\n",
       "      <td>0.436613</td>\n",
       "      <td>0.952610</td>\n",
       "      <td>0.556731</td>\n",
       "    </tr>\n",
       "    <tr>\n",
       "      <th>11</th>\n",
       "      <td>12</td>\n",
       "      <td>0.436613</td>\n",
       "      <td>0.760404</td>\n",
       "      <td>0.555769</td>\n",
       "    </tr>\n",
       "    <tr>\n",
       "      <th>16</th>\n",
       "      <td>17</td>\n",
       "      <td>0.436613</td>\n",
       "      <td>0.934568</td>\n",
       "      <td>0.553846</td>\n",
       "    </tr>\n",
       "    <tr>\n",
       "      <th>13</th>\n",
       "      <td>14</td>\n",
       "      <td>0.436613</td>\n",
       "      <td>0.836420</td>\n",
       "      <td>0.552885</td>\n",
       "    </tr>\n",
       "    <tr>\n",
       "      <th>14</th>\n",
       "      <td>15</td>\n",
       "      <td>0.436613</td>\n",
       "      <td>0.875150</td>\n",
       "      <td>0.550000</td>\n",
       "    </tr>\n",
       "    <tr>\n",
       "      <th>15</th>\n",
       "      <td>16</td>\n",
       "      <td>0.436613</td>\n",
       "      <td>0.908347</td>\n",
       "      <td>0.547115</td>\n",
       "    </tr>\n",
       "    <tr>\n",
       "      <th>12</th>\n",
       "      <td>13</td>\n",
       "      <td>0.436613</td>\n",
       "      <td>0.798893</td>\n",
       "      <td>0.547115</td>\n",
       "    </tr>\n",
       "    <tr>\n",
       "      <th>4</th>\n",
       "      <td>5</td>\n",
       "      <td>0.436613</td>\n",
       "      <td>0.568679</td>\n",
       "      <td>0.546154</td>\n",
       "    </tr>\n",
       "    <tr>\n",
       "      <th>6</th>\n",
       "      <td>7</td>\n",
       "      <td>0.436613</td>\n",
       "      <td>0.610055</td>\n",
       "      <td>0.546154</td>\n",
       "    </tr>\n",
       "  </tbody>\n",
       "</table>\n",
       "</div>"
      ],
      "text/plain": [
       "    max_depth  baseline  train_acc   val_acc\n",
       "18         19  0.436613   0.964157  0.556731\n",
       "17         18  0.436613   0.952610  0.556731\n",
       "11         12  0.436613   0.760404  0.555769\n",
       "16         17  0.436613   0.934568  0.553846\n",
       "13         14  0.436613   0.836420  0.552885\n",
       "14         15  0.436613   0.875150  0.550000\n",
       "15         16  0.436613   0.908347  0.547115\n",
       "12         13  0.436613   0.798893  0.547115\n",
       "4           5  0.436613   0.568679  0.546154\n",
       "6           7  0.436613   0.610055  0.546154"
      ]
     },
     "execution_count": 799,
     "metadata": {},
     "output_type": "execute_result"
    }
   ],
   "source": [
    "scores_all = []\n",
    "\n",
    "for x in range(1,20):\n",
    "\n",
    "    clf = DecisionTreeClassifier(max_depth=x, random_state=666)\n",
    "    clf.fit(x_train_3, y_train)\n",
    "    \n",
    "    # evaluate on train\n",
    "    train_acc = clf.score(x_train_3, y_train)\n",
    "    \n",
    "    #evaluate on validate\n",
    "    val_acc = clf.score(x_validate_3, y_validate)\n",
    "    \n",
    "    scores_all.append([x,baseline, train_acc, val_acc])\n",
    "    \n",
    "scores_df = pd.DataFrame(scores_all, columns=['max_depth','baseline','train_acc','val_acc'])\n",
    "scores_df = pd.DataFrame(scores_all, columns=['max_depth','baseline','train_acc','val_acc'])\n",
    "scores_df.sort_values(by=['val_acc'], ascending=False).head(10)"
   ]
  },
  {
   "cell_type": "markdown",
   "metadata": {},
   "source": [
    "> Best DT Model: Feature set 2 & max_depth= 5 \\\n",
    "> train: 0.5687\n",
    "> validate: 0.547"
   ]
  },
  {
   "cell_type": "markdown",
   "metadata": {},
   "source": [
    "## Random Forest"
   ]
  },
  {
   "cell_type": "code",
   "execution_count": 800,
   "metadata": {},
   "outputs": [],
   "source": [
    "rf = RandomForestClassifier(bootstrap=True, \n",
    "                            class_weight=None, \n",
    "                            criterion='gini',\n",
    "                            min_samples_leaf=3,\n",
    "                            n_estimators=100,\n",
    "                            max_depth=3, \n",
    "                            random_state=123)\n"
   ]
  },
  {
   "cell_type": "code",
   "execution_count": 801,
   "metadata": {},
   "outputs": [
    {
     "data": {
      "text/html": [
       "<style>#sk-container-id-6 {color: black;background-color: white;}#sk-container-id-6 pre{padding: 0;}#sk-container-id-6 div.sk-toggleable {background-color: white;}#sk-container-id-6 label.sk-toggleable__label {cursor: pointer;display: block;width: 100%;margin-bottom: 0;padding: 0.3em;box-sizing: border-box;text-align: center;}#sk-container-id-6 label.sk-toggleable__label-arrow:before {content: \"▸\";float: left;margin-right: 0.25em;color: #696969;}#sk-container-id-6 label.sk-toggleable__label-arrow:hover:before {color: black;}#sk-container-id-6 div.sk-estimator:hover label.sk-toggleable__label-arrow:before {color: black;}#sk-container-id-6 div.sk-toggleable__content {max-height: 0;max-width: 0;overflow: hidden;text-align: left;background-color: #f0f8ff;}#sk-container-id-6 div.sk-toggleable__content pre {margin: 0.2em;color: black;border-radius: 0.25em;background-color: #f0f8ff;}#sk-container-id-6 input.sk-toggleable__control:checked~div.sk-toggleable__content {max-height: 200px;max-width: 100%;overflow: auto;}#sk-container-id-6 input.sk-toggleable__control:checked~label.sk-toggleable__label-arrow:before {content: \"▾\";}#sk-container-id-6 div.sk-estimator input.sk-toggleable__control:checked~label.sk-toggleable__label {background-color: #d4ebff;}#sk-container-id-6 div.sk-label input.sk-toggleable__control:checked~label.sk-toggleable__label {background-color: #d4ebff;}#sk-container-id-6 input.sk-hidden--visually {border: 0;clip: rect(1px 1px 1px 1px);clip: rect(1px, 1px, 1px, 1px);height: 1px;margin: -1px;overflow: hidden;padding: 0;position: absolute;width: 1px;}#sk-container-id-6 div.sk-estimator {font-family: monospace;background-color: #f0f8ff;border: 1px dotted black;border-radius: 0.25em;box-sizing: border-box;margin-bottom: 0.5em;}#sk-container-id-6 div.sk-estimator:hover {background-color: #d4ebff;}#sk-container-id-6 div.sk-parallel-item::after {content: \"\";width: 100%;border-bottom: 1px solid gray;flex-grow: 1;}#sk-container-id-6 div.sk-label:hover label.sk-toggleable__label {background-color: #d4ebff;}#sk-container-id-6 div.sk-serial::before {content: \"\";position: absolute;border-left: 1px solid gray;box-sizing: border-box;top: 0;bottom: 0;left: 50%;z-index: 0;}#sk-container-id-6 div.sk-serial {display: flex;flex-direction: column;align-items: center;background-color: white;padding-right: 0.2em;padding-left: 0.2em;position: relative;}#sk-container-id-6 div.sk-item {position: relative;z-index: 1;}#sk-container-id-6 div.sk-parallel {display: flex;align-items: stretch;justify-content: center;background-color: white;position: relative;}#sk-container-id-6 div.sk-item::before, #sk-container-id-6 div.sk-parallel-item::before {content: \"\";position: absolute;border-left: 1px solid gray;box-sizing: border-box;top: 0;bottom: 0;left: 50%;z-index: -1;}#sk-container-id-6 div.sk-parallel-item {display: flex;flex-direction: column;z-index: 1;position: relative;background-color: white;}#sk-container-id-6 div.sk-parallel-item:first-child::after {align-self: flex-end;width: 50%;}#sk-container-id-6 div.sk-parallel-item:last-child::after {align-self: flex-start;width: 50%;}#sk-container-id-6 div.sk-parallel-item:only-child::after {width: 0;}#sk-container-id-6 div.sk-dashed-wrapped {border: 1px dashed gray;margin: 0 0.4em 0.5em 0.4em;box-sizing: border-box;padding-bottom: 0.4em;background-color: white;}#sk-container-id-6 div.sk-label label {font-family: monospace;font-weight: bold;display: inline-block;line-height: 1.2em;}#sk-container-id-6 div.sk-label-container {text-align: center;}#sk-container-id-6 div.sk-container {/* jupyter's `normalize.less` sets `[hidden] { display: none; }` but bootstrap.min.css set `[hidden] { display: none !important; }` so we also need the `!important` here to be able to override the default hidden behavior on the sphinx rendered scikit-learn.org. See: https://github.com/scikit-learn/scikit-learn/issues/21755 */display: inline-block !important;position: relative;}#sk-container-id-6 div.sk-text-repr-fallback {display: none;}</style><div id=\"sk-container-id-6\" class=\"sk-top-container\"><div class=\"sk-text-repr-fallback\"><pre>RandomForestClassifier(max_depth=3, min_samples_leaf=3, random_state=123)</pre><b>In a Jupyter environment, please rerun this cell to show the HTML representation or trust the notebook. <br />On GitHub, the HTML representation is unable to render, please try loading this page with nbviewer.org.</b></div><div class=\"sk-container\" hidden><div class=\"sk-item\"><div class=\"sk-estimator sk-toggleable\"><input class=\"sk-toggleable__control sk-hidden--visually\" id=\"sk-estimator-id-6\" type=\"checkbox\" checked><label for=\"sk-estimator-id-6\" class=\"sk-toggleable__label sk-toggleable__label-arrow\">RandomForestClassifier</label><div class=\"sk-toggleable__content\"><pre>RandomForestClassifier(max_depth=3, min_samples_leaf=3, random_state=123)</pre></div></div></div></div></div>"
      ],
      "text/plain": [
       "RandomForestClassifier(max_depth=3, min_samples_leaf=3, random_state=123)"
      ]
     },
     "execution_count": 801,
     "metadata": {},
     "output_type": "execute_result"
    }
   ],
   "source": [
    "rf.fit(x_train_1, y_train)"
   ]
  },
  {
   "cell_type": "code",
   "execution_count": 802,
   "metadata": {},
   "outputs": [
    {
     "name": "stdout",
     "output_type": "stream",
     "text": [
      "[0.02160534 0.2190034  0.24982003 0.43446063 0.04458816 0.03052243]\n"
     ]
    }
   ],
   "source": [
    "print(rf.feature_importances_)"
   ]
  },
  {
   "cell_type": "code",
   "execution_count": 803,
   "metadata": {},
   "outputs": [],
   "source": [
    "y_pred = rf.predict(x_train_1)"
   ]
  },
  {
   "cell_type": "code",
   "execution_count": 804,
   "metadata": {},
   "outputs": [],
   "source": [
    "y_pred_proba = rf.predict_proba(x_train_1)"
   ]
  },
  {
   "cell_type": "code",
   "execution_count": 805,
   "metadata": {},
   "outputs": [
    {
     "name": "stdout",
     "output_type": "stream",
     "text": [
      "Accuracy of random forest classifier on training set: 0.54\n"
     ]
    }
   ],
   "source": [
    "print('Accuracy of random forest classifier on training set: {:.2f}'\n",
    "     .format(rf.score(x_train_1, y_train)))\n"
   ]
  },
  {
   "cell_type": "code",
   "execution_count": 806,
   "metadata": {},
   "outputs": [
    {
     "name": "stdout",
     "output_type": "stream",
     "text": [
      "[[   0    0    7   12    0    0    0]\n",
      " [   0    0   68   71    0    0    0]\n",
      " [   0    0  853  515    0    0    0]\n",
      " [   0    0  440 1375    0    0    0]\n",
      " [   0    0   38  651    1    0    0]\n",
      " [   0    0    0  123    0    0    0]\n",
      " [   0    0    0    3    0    0    0]]\n"
     ]
    }
   ],
   "source": [
    "print(confusion_matrix(y_train, y_pred))\n"
   ]
  },
  {
   "cell_type": "code",
   "execution_count": 807,
   "metadata": {},
   "outputs": [
    {
     "name": "stdout",
     "output_type": "stream",
     "text": [
      "              precision    recall  f1-score   support\n",
      "\n",
      "           3       0.00      0.00      0.00        19\n",
      "           4       0.00      0.00      0.00       139\n",
      "           5       0.61      0.62      0.61      1368\n",
      "           6       0.50      0.76      0.60      1815\n",
      "           7       1.00      0.00      0.00       690\n",
      "           8       0.00      0.00      0.00       123\n",
      "           9       0.00      0.00      0.00         3\n",
      "\n",
      "    accuracy                           0.54      4157\n",
      "   macro avg       0.30      0.20      0.17      4157\n",
      "weighted avg       0.58      0.54      0.47      4157\n",
      "\n"
     ]
    }
   ],
   "source": [
    "print(classification_report(y_train, y_pred))\n"
   ]
  },
  {
   "cell_type": "code",
   "execution_count": 809,
   "metadata": {},
   "outputs": [
    {
     "name": "stdout",
     "output_type": "stream",
     "text": [
      "Accuracy of random forest classifier on test set: 0.54\n"
     ]
    }
   ],
   "source": [
    "print('Accuracy of random forest classifier on test set: {:.2f}'\n",
    "     .format(rf.score(x_validate_1, y_validate)))\n"
   ]
  },
  {
   "cell_type": "markdown",
   "metadata": {},
   "source": [
    "## KNN"
   ]
  },
  {
   "cell_type": "code",
   "execution_count": 851,
   "metadata": {},
   "outputs": [
    {
     "name": "stdout",
     "output_type": "stream",
     "text": [
      "1 = n_neighbors on train is  99.90%\n",
      "1 = n_neighbors on validate is         56.63%\n",
      "2 = n_neighbors on train is  79.29%\n",
      "2 = n_neighbors on validate is         49.71%\n",
      "3 = n_neighbors on train is  74.19%\n",
      "3 = n_neighbors on validate is         50.00%\n",
      "4 = n_neighbors on train is  69.86%\n",
      "4 = n_neighbors on validate is         50.77%\n",
      "5 = n_neighbors on train is  66.90%\n",
      "5 = n_neighbors on validate is         53.27%\n",
      "6 = n_neighbors on train is  65.19%\n",
      "6 = n_neighbors on validate is         54.23%\n",
      "7 = n_neighbors on train is  63.89%\n",
      "7 = n_neighbors on validate is         54.52%\n",
      "8 = n_neighbors on train is  62.50%\n",
      "8 = n_neighbors on validate is         53.75%\n",
      "9 = n_neighbors on train is  62.42%\n",
      "9 = n_neighbors on validate is         54.33%\n",
      "10 = n_neighbors on train is  62.11%\n",
      "10 = n_neighbors on validate is         54.90%\n",
      "11 = n_neighbors on train is  62.04%\n",
      "11 = n_neighbors on validate is         54.33%\n",
      "12 = n_neighbors on train is  60.86%\n",
      "12 = n_neighbors on validate is         53.65%\n",
      "13 = n_neighbors on train is  60.60%\n",
      "13 = n_neighbors on validate is         53.85%\n",
      "14 = n_neighbors on train is  60.14%\n",
      "14 = n_neighbors on validate is         53.46%\n",
      "15 = n_neighbors on train is  60.26%\n",
      "15 = n_neighbors on validate is         53.94%\n",
      "16 = n_neighbors on train is  59.80%\n",
      "16 = n_neighbors on validate is         53.17%\n",
      "17 = n_neighbors on train is  59.27%\n",
      "17 = n_neighbors on validate is         53.75%\n",
      "18 = n_neighbors on train is  59.08%\n",
      "18 = n_neighbors on validate is         53.94%\n",
      "19 = n_neighbors on train is  58.65%\n",
      "19 = n_neighbors on validate is         53.94%\n",
      "20 = n_neighbors on train is  58.43%\n",
      "20 = n_neighbors on validate is         53.75%\n",
      "21 = n_neighbors on train is  57.83%\n",
      "21 = n_neighbors on validate is         54.33%\n",
      "22 = n_neighbors on train is  58.50%\n",
      "22 = n_neighbors on validate is         55.10%\n",
      "23 = n_neighbors on train is  57.76%\n",
      "23 = n_neighbors on validate is         54.52%\n",
      "24 = n_neighbors on train is  57.59%\n",
      "24 = n_neighbors on validate is         55.29%\n",
      "25 = n_neighbors on train is  57.57%\n",
      "25 = n_neighbors on validate is         55.10%\n",
      "26 = n_neighbors on train is  57.40%\n",
      "26 = n_neighbors on validate is         55.67%\n",
      "27 = n_neighbors on train is  56.87%\n",
      "27 = n_neighbors on validate is         55.38%\n",
      "28 = n_neighbors on train is  57.04%\n",
      "28 = n_neighbors on validate is         55.87%\n",
      "29 = n_neighbors on train is  56.94%\n",
      "29 = n_neighbors on validate is         54.90%\n"
     ]
    }
   ],
   "source": [
    "for n in range(1, 30):\n",
    "    knn = KNeighborsClassifier(n_neighbors=n)\n",
    "    \n",
    "    knn.fit(x_train_1, y_train)\n",
    "\n",
    "    # print results\n",
    "    print(f\"{n} = n_neighbors on train is {knn.score(x_train_1, y_train): .2%}\")\n",
    "    print(f\"{n} = n_neighbors on validate is        {knn.score(x_validate_1, y_validate): .2%}\")"
   ]
  },
  {
   "cell_type": "code",
   "execution_count": 850,
   "metadata": {},
   "outputs": [
    {
     "name": "stdout",
     "output_type": "stream",
     "text": [
      "1 = n_neighbors on train is  99.90%\n",
      "1 = n_neighbors on validate is             57.60%\n",
      "2 = n_neighbors on train is  79.05%\n",
      "2 = n_neighbors on validate is             49.81%\n",
      "3 = n_neighbors on train is  74.43%\n",
      "3 = n_neighbors on validate is             50.96%\n",
      "4 = n_neighbors on train is  69.43%\n",
      "4 = n_neighbors on validate is             52.12%\n",
      "5 = n_neighbors on train is  66.13%\n",
      "5 = n_neighbors on validate is             54.42%\n",
      "6 = n_neighbors on train is  64.54%\n",
      "6 = n_neighbors on validate is             54.23%\n",
      "7 = n_neighbors on train is  63.39%\n",
      "7 = n_neighbors on validate is             55.10%\n",
      "8 = n_neighbors on train is  62.06%\n",
      "8 = n_neighbors on validate is             54.42%\n",
      "9 = n_neighbors on train is  61.68%\n",
      "9 = n_neighbors on validate is             54.33%\n",
      "10 = n_neighbors on train is  60.86%\n",
      "10 = n_neighbors on validate is             54.23%\n",
      "11 = n_neighbors on train is  60.86%\n",
      "11 = n_neighbors on validate is             53.85%\n",
      "12 = n_neighbors on train is  60.55%\n",
      "12 = n_neighbors on validate is             54.23%\n",
      "13 = n_neighbors on train is  59.92%\n",
      "13 = n_neighbors on validate is             53.75%\n",
      "14 = n_neighbors on train is  59.71%\n",
      "14 = n_neighbors on validate is             53.27%\n",
      "15 = n_neighbors on train is  59.35%\n",
      "15 = n_neighbors on validate is             54.23%\n",
      "16 = n_neighbors on train is  58.91%\n",
      "16 = n_neighbors on validate is             54.52%\n",
      "17 = n_neighbors on train is  59.30%\n",
      "17 = n_neighbors on validate is             54.42%\n",
      "18 = n_neighbors on train is  59.11%\n",
      "18 = n_neighbors on validate is             54.62%\n",
      "19 = n_neighbors on train is  59.13%\n",
      "19 = n_neighbors on validate is             54.42%\n",
      "20 = n_neighbors on train is  58.36%\n",
      "20 = n_neighbors on validate is             54.42%\n",
      "21 = n_neighbors on train is  58.17%\n",
      "21 = n_neighbors on validate is             54.81%\n",
      "22 = n_neighbors on train is  57.95%\n",
      "22 = n_neighbors on validate is             54.04%\n",
      "23 = n_neighbors on train is  57.52%\n",
      "23 = n_neighbors on validate is             53.94%\n",
      "24 = n_neighbors on train is  57.76%\n",
      "24 = n_neighbors on validate is             54.52%\n",
      "25 = n_neighbors on train is  57.64%\n",
      "25 = n_neighbors on validate is             54.81%\n",
      "26 = n_neighbors on train is  57.25%\n",
      "26 = n_neighbors on validate is             54.62%\n",
      "27 = n_neighbors on train is  57.37%\n",
      "27 = n_neighbors on validate is             54.62%\n",
      "28 = n_neighbors on train is  57.32%\n",
      "28 = n_neighbors on validate is             55.19%\n",
      "29 = n_neighbors on train is  57.59%\n",
      "29 = n_neighbors on validate is             55.67%\n"
     ]
    }
   ],
   "source": [
    "for n in range(1, 30):\n",
    "    knn = KNeighborsClassifier(n_neighbors=n)\n",
    "    \n",
    "    knn.fit(x_train_2, y_train)\n",
    "\n",
    "    # print results\n",
    "    print(f\"{n} = n_neighbors on train is {knn.score(x_train_2, y_train): .2%}\")\n",
    "    print(f\"{n} = n_neighbors on validate is            {knn.score(x_validate_2, y_validate): .2%}\")"
   ]
  },
  {
   "cell_type": "code",
   "execution_count": 845,
   "metadata": {},
   "outputs": [
    {
     "name": "stdout",
     "output_type": "stream",
     "text": [
      "1 = n_neighbors on train is  99.90%\n",
      "1 = n_neighbors on validate is         55.48%\n",
      "2 = n_neighbors on train is  79.89%\n",
      "2 = n_neighbors on validate is         50.38%\n",
      "3 = n_neighbors on train is  75.15%\n",
      "3 = n_neighbors on validate is         48.56%\n",
      "4 = n_neighbors on train is  70.58%\n",
      "4 = n_neighbors on validate is         51.35%\n",
      "5 = n_neighbors on train is  67.45%\n",
      "5 = n_neighbors on validate is         53.27%\n",
      "6 = n_neighbors on train is  65.10%\n",
      "6 = n_neighbors on validate is         52.60%\n",
      "7 = n_neighbors on train is  64.20%\n",
      "7 = n_neighbors on validate is         53.08%\n",
      "8 = n_neighbors on train is  62.50%\n",
      "8 = n_neighbors on validate is         55.00%\n",
      "9 = n_neighbors on train is  62.45%\n",
      "9 = n_neighbors on validate is         53.65%\n",
      "10 = n_neighbors on train is  61.58%\n",
      "10 = n_neighbors on validate is         53.85%\n",
      "11 = n_neighbors on train is  61.37%\n",
      "11 = n_neighbors on validate is         55.48%\n",
      "12 = n_neighbors on train is  60.96%\n",
      "12 = n_neighbors on validate is         55.10%\n",
      "13 = n_neighbors on train is  60.04%\n",
      "13 = n_neighbors on validate is         54.71%\n",
      "14 = n_neighbors on train is  59.47%\n",
      "14 = n_neighbors on validate is         54.81%\n",
      "15 = n_neighbors on train is  59.87%\n",
      "15 = n_neighbors on validate is         55.19%\n",
      "16 = n_neighbors on train is  59.35%\n",
      "16 = n_neighbors on validate is         54.62%\n",
      "17 = n_neighbors on train is  58.98%\n",
      "17 = n_neighbors on validate is         54.81%\n",
      "18 = n_neighbors on train is  58.98%\n",
      "18 = n_neighbors on validate is         55.38%\n",
      "19 = n_neighbors on train is  58.46%\n",
      "19 = n_neighbors on validate is         55.67%\n",
      "20 = n_neighbors on train is  58.38%\n",
      "20 = n_neighbors on validate is         56.25%\n",
      "21 = n_neighbors on train is  58.22%\n",
      "21 = n_neighbors on validate is         55.29%\n",
      "22 = n_neighbors on train is  57.81%\n",
      "22 = n_neighbors on validate is         54.90%\n",
      "23 = n_neighbors on train is  58.00%\n",
      "23 = n_neighbors on validate is         54.33%\n",
      "24 = n_neighbors on train is  57.88%\n",
      "24 = n_neighbors on validate is         55.00%\n",
      "25 = n_neighbors on train is  58.12%\n",
      "25 = n_neighbors on validate is         55.10%\n",
      "26 = n_neighbors on train is  58.17%\n",
      "26 = n_neighbors on validate is         54.71%\n",
      "27 = n_neighbors on train is  58.17%\n",
      "27 = n_neighbors on validate is         54.52%\n",
      "28 = n_neighbors on train is  57.57%\n",
      "28 = n_neighbors on validate is         54.23%\n",
      "29 = n_neighbors on train is  57.37%\n",
      "29 = n_neighbors on validate is         54.23%\n"
     ]
    }
   ],
   "source": [
    "for n in range(1, 30):\n",
    "    knn = KNeighborsClassifier(n_neighbors=n)\n",
    "    \n",
    "    knn.fit(x_train_3, y_train)\n",
    "\n",
    "    # print results\n",
    "    print(f\"{n} = n_neighbors on train is {knn.score(x_train_3, y_train): .2%}\")\n",
    "    print(f\"{n} = n_neighbors on validate is        {knn.score(x_validate_3, y_validate): .2%}\")"
   ]
  },
  {
   "cell_type": "markdown",
   "metadata": {},
   "source": [
    "> Best KNN Model: Feature set 3; n_neighbors is 20\n",
    "> Train: 58.38%\n",
    "> Validate: 56.25%"
   ]
  },
  {
   "cell_type": "code",
   "execution_count": 832,
   "metadata": {},
   "outputs": [],
   "source": [
    "def get_tree(X_train, X_validate, y_train, y_validate, max_depth=5):\n",
    "    '''Takes in 4 positional arguments for X_train, X_validate, y_train, y_validate. Creates (max_depth=5, random_state=666) and fits DT model on train data. Returns print statement of the accuracy score for the model on train and validate.\n",
    "    '''\n",
    "\n",
    "    # create classifier object\n",
    "    clf = DecisionTreeClassifier(max_depth=max_depth, random_state=666)\n",
    "\n",
    "    #fit model on training data\n",
    "    clf = clf.fit(X_train, y_train)\n",
    "\n",
    "    # print result\n",
    "    print(f\"Accuracy of Decision Tree on train data is {clf.score(X_train, y_train): .2%}\")\n",
    "    print(f\"Accuracy of Decision Tree on validate data is {clf.score(X_validate, y_validate): .2%}\")"
   ]
  },
  {
   "cell_type": "markdown",
   "metadata": {},
   "source": [
    "<hr style=\"border:2px solid black\">\n",
    "\n",
    "# **Conclusions**\n"
   ]
  },
  {
   "cell_type": "markdown",
   "metadata": {},
   "source": []
  }
 ],
 "metadata": {
  "kernelspec": {
   "display_name": "base",
   "language": "python",
   "name": "python3"
  },
  "language_info": {
   "codemirror_mode": {
    "name": "ipython",
    "version": 3
   },
   "file_extension": ".py",
   "mimetype": "text/x-python",
   "name": "python",
   "nbconvert_exporter": "python",
   "pygments_lexer": "ipython3",
   "version": "3.11.3"
  },
  "orig_nbformat": 4
 },
 "nbformat": 4,
 "nbformat_minor": 2
}
